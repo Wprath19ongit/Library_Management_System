{
 "cells": [
  {
   "cell_type": "code",
   "execution_count": 11,
   "metadata": {},
   "outputs": [],
   "source": [
    "import sqlite3\n",
    "# Creating database\n",
    "connection = sqlite3.connect(\"library.db\")"
   ]
  },
  {
   "cell_type": "code",
   "execution_count": 12,
   "metadata": {},
   "outputs": [],
   "source": [
    "# Creating a cursor to manipulate database\n",
    "csr1 = connection.cursor()"
   ]
  },
  {
   "cell_type": "code",
   "execution_count": 13,
   "metadata": {},
   "outputs": [
    {
     "data": {
      "text/plain": [
       "<sqlite3.Cursor at 0x2850c5c96c0>"
      ]
     },
     "execution_count": 13,
     "metadata": {},
     "output_type": "execute_result"
    }
   ],
   "source": [
    "# Creating a table\n",
    "# datatypes for table content - null,integer,real,text,blob.\n",
    "csr1.execute(\"\"\"CREATE TABLE books (\n",
    "    book_name text,\n",
    "    book_author text,\n",
    "    book_ID text\n",
    ")\"\"\")"
   ]
  },
  {
   "cell_type": "code",
   "execution_count": 16,
   "metadata": {},
   "outputs": [],
   "source": [
    "# commiting to database\n",
    "connection.commit()"
   ]
  },
  {
   "cell_type": "code",
   "execution_count": 17,
   "metadata": {},
   "outputs": [
    {
     "data": {
      "text/plain": [
       "<sqlite3.Cursor at 0x2850c5c96c0>"
      ]
     },
     "execution_count": 17,
     "metadata": {},
     "output_type": "execute_result"
    }
   ],
   "source": [
    "# inserting info in database\n",
    "csr1.execute(\"\"\"INSERT INTO books VALUES ('Programming with python','Reema Thareja','1')\"\"\")\n"
   ]
  },
  {
   "cell_type": "code",
   "execution_count": 18,
   "metadata": {},
   "outputs": [
    {
     "data": {
      "text/plain": [
       "<sqlite3.Cursor at 0x2850c5c96c0>"
      ]
     },
     "execution_count": 18,
     "metadata": {},
     "output_type": "execute_result"
    }
   ],
   "source": [
    "# inserting more info one go\n",
    "lib_books =[\n",
    "    ('Digital Logic Design','Morris Mano','2'),\n",
    "    ('Engineering Graphics','N.D. Bhatt','3'),\n",
    "    ]\n",
    "csr1.executemany(\"\"\"INSERT INTO books VALUES (?,?,?)\"\"\", lib_books)"
   ]
  },
  {
   "cell_type": "code",
   "execution_count": 19,
   "metadata": {},
   "outputs": [
    {
     "name": "stdout",
     "output_type": "stream",
     "text": [
      "(1, 'Programming with python', 'Reema Thareja', '1')\n",
      "(2, 'Digital Logic Design', 'Morris Mano', '2')\n",
      "(3, 'Engineering Graphics', 'N.D. Bhatt', '3')\n"
     ]
    }
   ],
   "source": [
    "\n",
    "csr1.execute(\"SELECT rowid,* FROM books\")\n",
    "# csr1.fetchone()\n",
    "# csr1.fetchmany(some number)\n",
    "data=(csr1.fetchall())\n",
    "\n",
    "for i in data:\n",
    "    print(i)"
   ]
  },
  {
   "cell_type": "code",
   "execution_count": 43,
   "metadata": {},
   "outputs": [
    {
     "name": "stdout",
     "output_type": "stream",
     "text": [
      "('Programming with python', 'Reema Thareja', '-', '-', '1', 'available')\n"
     ]
    }
   ],
   "source": [
    "a = 'Reema Thereja'\n",
    "c.execute(\"SELECT * FROM books WHERE author1 LIKE 're%'\")\n",
    "\n",
    "items = c.fetchall()\n",
    "for i in items:\n",
    "    print(i)"
   ]
  },
  {
   "cell_type": "code",
   "execution_count": 22,
   "metadata": {},
   "outputs": [
    {
     "data": {
      "text/plain": [
       "<sqlite3.Cursor at 0x2459cc362d0>"
      ]
     },
     "execution_count": 22,
     "metadata": {},
     "output_type": "execute_result"
    }
   ],
   "source": [
    "csr1.execute(\"SELECT * from client_info\")"
   ]
  },
  {
   "cell_type": "code",
   "execution_count": 24,
   "metadata": {},
   "outputs": [
    {
     "ename": "ProgrammingError",
     "evalue": "Cannot operate on a closed database.",
     "output_type": "error",
     "traceback": [
      "\u001b[1;31m---------------------------------------------------------------------------\u001b[0m",
      "\u001b[1;31mProgrammingError\u001b[0m                          Traceback (most recent call last)",
      "\u001b[1;32m<ipython-input-24-50d1671885e8>\u001b[0m in \u001b[0;36m<module>\u001b[1;34m\u001b[0m\n\u001b[1;32m----> 1\u001b[1;33m \u001b[0mcsr1\u001b[0m\u001b[1;33m.\u001b[0m\u001b[0mfetchall\u001b[0m\u001b[1;33m(\u001b[0m\u001b[1;33m)\u001b[0m\u001b[1;33m\u001b[0m\u001b[1;33m\u001b[0m\u001b[0m\n\u001b[0m",
      "\u001b[1;31mProgrammingError\u001b[0m: Cannot operate on a closed database."
     ]
    }
   ],
   "source": [
    "csr1.fetchall()"
   ]
  },
  {
   "cell_type": "code",
   "execution_count": 1,
   "metadata": {},
   "outputs": [],
   "source": [
    "import sqlite3\n",
    "conn = sqlite3.connect('library.db')\n",
    "c = conn.cursor()"
   ]
  },
  {
   "cell_type": "code",
   "execution_count": 6,
   "metadata": {},
   "outputs": [
    {
     "name": "stdout",
     "output_type": "stream",
     "text": [
      "Name is in the table\n",
      "CORRECT PASS\n"
     ]
    },
    {
     "ename": "NameError",
     "evalue": "name 'client_options' is not defined",
     "output_type": "error",
     "traceback": [
      "\u001b[1;31m---------------------------------------------------------------------------\u001b[0m",
      "\u001b[1;31mNameError\u001b[0m                                 Traceback (most recent call last)",
      "\u001b[1;32m<ipython-input-6-509de3ea295c>\u001b[0m in \u001b[0;36m<module>\u001b[1;34m\u001b[0m\n\u001b[0;32m     32\u001b[0m         \u001b[0mprint\u001b[0m\u001b[1;33m(\u001b[0m\u001b[1;34m\"Member not in the data\"\u001b[0m\u001b[1;33m)\u001b[0m\u001b[1;33m\u001b[0m\u001b[1;33m\u001b[0m\u001b[0m\n\u001b[0;32m     33\u001b[0m \u001b[1;33m\u001b[0m\u001b[0m\n\u001b[1;32m---> 34\u001b[1;33m \u001b[0mclient_login\u001b[0m\u001b[1;33m(\u001b[0m\u001b[1;33m)\u001b[0m\u001b[1;33m\u001b[0m\u001b[1;33m\u001b[0m\u001b[0m\n\u001b[0m",
      "\u001b[1;32m<ipython-input-6-509de3ea295c>\u001b[0m in \u001b[0;36mclient_login\u001b[1;34m()\u001b[0m\n\u001b[0;32m     20\u001b[0m             \u001b[1;32mif\u001b[0m \u001b[0my\u001b[0m \u001b[1;33m==\u001b[0m \u001b[0mz\u001b[0m\u001b[1;33m[\u001b[0m\u001b[1;36m0\u001b[0m\u001b[1;33m]\u001b[0m\u001b[1;33m:\u001b[0m\u001b[1;33m\u001b[0m\u001b[1;33m\u001b[0m\u001b[0m\n\u001b[0;32m     21\u001b[0m                 \u001b[0mprint\u001b[0m\u001b[1;33m(\u001b[0m\u001b[1;34m\"CORRECT PASS\"\u001b[0m\u001b[1;33m)\u001b[0m\u001b[1;33m\u001b[0m\u001b[1;33m\u001b[0m\u001b[0m\n\u001b[1;32m---> 22\u001b[1;33m                 \u001b[0mclient_options\u001b[0m\u001b[1;33m(\u001b[0m\u001b[1;33m)\u001b[0m\u001b[1;33m\u001b[0m\u001b[1;33m\u001b[0m\u001b[0m\n\u001b[0m\u001b[0;32m     23\u001b[0m                 \u001b[1;32mbreak\u001b[0m\u001b[1;33m\u001b[0m\u001b[1;33m\u001b[0m\u001b[0m\n\u001b[0;32m     24\u001b[0m             \u001b[1;32melse\u001b[0m\u001b[1;33m:\u001b[0m\u001b[1;33m\u001b[0m\u001b[1;33m\u001b[0m\u001b[0m\n",
      "\u001b[1;31mNameError\u001b[0m: name 'client_options' is not defined"
     ]
    }
   ],
   "source": [
    "\n",
    "\n",
    "def client_login():\n",
    "    \n",
    "\n",
    "    mis = input(\"Enter mis: \")\n",
    "    # c.execute(\"SELECT EXISTS(SELECT 1 FROM client_info WHERE mis=? LIMIT 1)\", (mis,))\n",
    "    # csr1.execute(\"SELECT * FROM books WHERE book_author LIKE 'Reema%'\")\n",
    "    c.execute(\"SELECT * FROM client_info\")\n",
    "    record = (c.fetchall())\n",
    "    index=0\n",
    "    for i in record:\n",
    "        if mis == i[4]:\n",
    "            \n",
    "            print(\"Name is in the table\")\n",
    "            y = input(\"Enter password: \")\n",
    "            c.execute(\"SELECT password FROM client_info WHERE mis=?\", (mis,))\n",
    "            z = c.fetchone()\n",
    "            if y == z[0]:\n",
    "                print(\"CORRECT PASS\")\n",
    "                client_options()\n",
    "                break\n",
    "            else:\n",
    "                print(\"Wrong pass\")\n",
    "                break\n",
    "            \n",
    "        else:\n",
    "            index+=1\n",
    "    \n",
    "    if mis not in record[index]:\n",
    "        print(\"Member not in the data\")\n",
    "\n",
    "client_login()"
   ]
  },
  {
   "cell_type": "code",
   "execution_count": 2,
   "metadata": {},
   "outputs": [
    {
     "ename": "SyntaxError",
     "evalue": "invalid syntax (<ipython-input-2-56168b4d6649>, line 26)",
     "output_type": "error",
     "traceback": [
      "\u001b[1;36m  File \u001b[1;32m\"<ipython-input-2-56168b4d6649>\"\u001b[1;36m, line \u001b[1;32m26\u001b[0m\n\u001b[1;33m    try = input(\"try again? (Y/N)\")\u001b[0m\n\u001b[1;37m        ^\u001b[0m\n\u001b[1;31mSyntaxError\u001b[0m\u001b[1;31m:\u001b[0m invalid syntax\n"
     ]
    }
   ],
   "source": [
    "conn = sqlite3.connect('library.db')\n",
    "c = conn.cursor()\n",
    "\n",
    "def client_login():\n",
    "    \n",
    "\n",
    "    mis = input(\"Enter mis: \")\n",
    "    # c.execute(\"SELECT EXISTS(SELECT 1 FROM client_info WHERE mis=? LIMIT 1)\", (mis,))\n",
    "    # csr1.execute(\"SELECT * FROM books WHERE book_author LIKE 'Reema%'\")\n",
    "    c.execute(\"SELECT * FROM client_info\")\n",
    "    record = (c.fetchall())\n",
    "    index=0\n",
    "    for i in record:\n",
    "        if mis == i[4]:\n",
    "            \n",
    "            print(\"Name is in the table\")\n",
    "            y = input(\"Enter password: \")\n",
    "            c.execute(\"SELECT password FROM client_info WHERE mis=?\", (mis,))\n",
    "            z = c.fetchone()\n",
    "            if y == z[0]:\n",
    "                print(\"CORRECT PASS\")\n",
    "                #client_options()\n",
    "                break\n",
    "            else:\n",
    "                print(\"Wrong pass\")\n",
    "                try1 = input(\"try again? (Y/N)\")\n",
    "                break\n",
    "            \n",
    "        else:\n",
    "            index+=1\n",
    "    \n",
    "    if mis not in record[index]:\n",
    "        print(\"Member not in the data\")\n",
    "\n",
    "client_login()"
   ]
  },
  {
   "cell_type": "code",
   "execution_count": 8,
   "metadata": {},
   "outputs": [
    {
     "ename": "ValueError",
     "evalue": "not enough values to unpack (expected 5, got 0)",
     "output_type": "error",
     "traceback": [
      "\u001b[1;31m---------------------------------------------------------------------------\u001b[0m",
      "\u001b[1;31mValueError\u001b[0m                                Traceback (most recent call last)",
      "\u001b[1;32m<ipython-input-8-0c536e48f445>\u001b[0m in \u001b[0;36m<module>\u001b[1;34m\u001b[0m\n\u001b[0;32m     33\u001b[0m                 \u001b[0mnum\u001b[0m\u001b[1;33m+=\u001b[0m\u001b[1;36m1\u001b[0m\u001b[1;33m\u001b[0m\u001b[1;33m\u001b[0m\u001b[0m\n\u001b[0;32m     34\u001b[0m \u001b[1;33m\u001b[0m\u001b[0m\n\u001b[1;32m---> 35\u001b[1;33m \u001b[0msearch_books\u001b[0m\u001b[1;33m(\u001b[0m\u001b[1;33m)\u001b[0m\u001b[1;33m\u001b[0m\u001b[1;33m\u001b[0m\u001b[0m\n\u001b[0m",
      "\u001b[1;32m<ipython-input-8-0c536e48f445>\u001b[0m in \u001b[0;36msearch_books\u001b[1;34m()\u001b[0m\n\u001b[0;32m     16\u001b[0m         \u001b[0mresult5\u001b[0m \u001b[1;33m=\u001b[0m \u001b[0mc\u001b[0m\u001b[1;33m.\u001b[0m\u001b[0mfetchall\u001b[0m\u001b[1;33m(\u001b[0m\u001b[1;33m)\u001b[0m\u001b[1;33m\u001b[0m\u001b[1;33m\u001b[0m\u001b[0m\n\u001b[0;32m     17\u001b[0m         \u001b[0mnum\u001b[0m \u001b[1;33m=\u001b[0m \u001b[1;36m0\u001b[0m\u001b[1;33m\u001b[0m\u001b[1;33m\u001b[0m\u001b[0m\n\u001b[1;32m---> 18\u001b[1;33m         \u001b[1;32mfor\u001b[0m \u001b[0mi\u001b[0m\u001b[1;33m,\u001b[0m\u001b[0mj\u001b[0m\u001b[1;33m,\u001b[0m\u001b[0mk\u001b[0m\u001b[1;33m,\u001b[0m\u001b[0ml\u001b[0m\u001b[1;33m,\u001b[0m\u001b[0mm\u001b[0m \u001b[1;32min\u001b[0m \u001b[0mresult1\u001b[0m\u001b[1;33m,\u001b[0m\u001b[0mresult2\u001b[0m\u001b[1;33m,\u001b[0m\u001b[0mresult3\u001b[0m\u001b[1;33m,\u001b[0m\u001b[0mresult4\u001b[0m\u001b[1;33m,\u001b[0m\u001b[0mresult5\u001b[0m\u001b[1;33m:\u001b[0m\u001b[1;33m\u001b[0m\u001b[1;33m\u001b[0m\u001b[0m\n\u001b[0m\u001b[0;32m     19\u001b[0m             \u001b[1;32mif\u001b[0m \u001b[1;33m(\u001b[0m\u001b[0mlen\u001b[0m\u001b[1;33m(\u001b[0m\u001b[0mi\u001b[0m\u001b[1;33m)\u001b[0m\u001b[1;33m>\u001b[0m\u001b[1;36m0\u001b[0m\u001b[1;33m)\u001b[0m\u001b[1;33m:\u001b[0m\u001b[1;33m\u001b[0m\u001b[1;33m\u001b[0m\u001b[0m\n\u001b[0;32m     20\u001b[0m                 \u001b[0mprint\u001b[0m\u001b[1;33m(\u001b[0m\u001b[0mnum\u001b[0m\u001b[1;33m,\u001b[0m\u001b[1;34m')'\u001b[0m\u001b[1;33m,\u001b[0m\u001b[0mi\u001b[0m\u001b[1;33m,\u001b[0m\u001b[1;34m'\\n'\u001b[0m\u001b[1;33m)\u001b[0m\u001b[1;33m\u001b[0m\u001b[1;33m\u001b[0m\u001b[0m\n",
      "\u001b[1;31mValueError\u001b[0m: not enough values to unpack (expected 5, got 0)"
     ]
    }
   ],
   "source": [
    "\n",
    "def search_books():\n",
    "    # c.execute(\"SELECT EXISTS(SELECT 1 FROM client_info WHERE mis=? LIMIT 1)\", (mis,))\n",
    "    c.execute(\"SELECT * FROM books\")\n",
    "    record = c.fetchall()\n",
    "    for _ in record:\n",
    "        bk = input(\"Enter book you want to search: \")\n",
    "        c.execute(\"SELECT book_name FROM books WHERE book_name LIKE ?\",(bk,))\n",
    "        result1 = c.fetchall()\n",
    "        c.execute(\"SELECT author1 FROM books WHERE author1 LIKE ?\",(bk,))\n",
    "        result2 = c.fetchall()\n",
    "        c.execute(\"SELECT author2 FROM books WHERE author2 LIKE ?\",(bk,))\n",
    "        result3 = c.fetchall()\n",
    "        c.execute(\"SELECT author3 FROM books WHERE author3 LIKE ?\",(bk,))\n",
    "        result4 = c.fetchall()\n",
    "        c.execute(\"SELECT book_id FROM books WHERE book_id LIKE ?\",(bk,))\n",
    "        result5 = c.fetchall()\n",
    "        num = 0\n",
    "        for i,j,k,l,m in result1,result2,result3,result4,result5:\n",
    "            if (len(i)>0):\n",
    "                print(num,')',i,'\\n')\n",
    "                num+=1\n",
    "            if (len(j)>0):\n",
    "                print(num,')',j,'\\n')\n",
    "                num+=1\n",
    "            if (len(k)>0):\n",
    "                print(num,')',k,'\\n')\n",
    "                num+=1\n",
    "            if (len(l)>0):\n",
    "                print(num,')',l,'\\n')\n",
    "                num+=1\n",
    "            if (len(m)>0):\n",
    "                print(num,')',m,'\\n')\n",
    "                num+=1\n",
    "\n",
    "search_books()"
   ]
  },
  {
   "cell_type": "code",
   "execution_count": 18,
   "metadata": {},
   "outputs": [
    {
     "name": "stdout",
     "output_type": "stream",
     "text": [
      "Username already exists.\n",
      "mis already exists.\n"
     ]
    }
   ],
   "source": [
    "def signup():\n",
    "    c.execute(\"SELECT * FROM client_info\")\n",
    "    record = (c.fetchall())\n",
    "    \n",
    "    username = input('Enter username: ')\n",
    "    index=0\n",
    "    for i in record:\n",
    "        if username in i:\n",
    "            print('Username already exists.')\n",
    "            username = input('Enter another username: ')\n",
    "            \n",
    "\n",
    "    password = input('Enter password: ')\n",
    "    first_name = input('Enter first name: ')\n",
    "    last_name = input('Enter last name: ')\n",
    "\n",
    "    mis = input('Enter mis: ')\n",
    "    for i in record:\n",
    "        if username in i:\n",
    "            print('mis already exists.')\n",
    "            username = input('Enter valid mis: ')\n",
    "\n",
    "    branch = input('Enter branch: ')\n",
    "    college_email = input('Enter college mail-id: ')\n",
    "    mobile_no = input('Enter mobile no: ')\n",
    "    none = '-'\n",
    "# c.execute(\"SELECT password FROM client_info WHERE mis=?\", (mis,))\n",
    "\n",
    "    confirm = input(\"confirm sign-up - Y/N\")\n",
    "    if(confirm=='Y' or confirm=='y' or confirm=='Yes' or confirm=='yes' or confirm=='YES'):\n",
    "        c.execute(\"INSERT INTO client_info VALUES(?,?,?,?,?,?,?,?,?,?,?,?,?,?)\",(username, password, first_name, last_name, mis, branch, college_email, mobile_no,none,none,none,none,none,none))\n",
    "        conn.commit\n",
    "    else:\n",
    "        return\n",
    "signup()"
   ]
  },
  {
   "cell_type": "code",
   "execution_count": null,
   "metadata": {},
   "outputs": [],
   "source": [
    "def show_client_options():\n",
    "    while(1):\n",
    "        print('1. view all books')\n",
    "        print('2. search book')\n",
    "        print('3. update info')\n",
    "        print('0. Exit')\n",
    "        choice = input('Enter choice: ')\n",
    "        if (choice=='1'):\n",
    "            view_books()\n",
    "        elif (choice=='0'):\n",
    "            return\n",
    "        elif (choice=='2'):\n",
    "            search_books()\n",
    "        elif(choice=='3'):\n",
    "            update_client_info()\n",
    "        else:\n",
    "            print('Enter valid choice')\n",
    "\n",
    "\n"
   ]
  },
  {
   "cell_type": "code",
   "execution_count": 34,
   "metadata": {},
   "outputs": [],
   "source": [
    "def update_client_info():\n",
    "    i=1\n",
    "    while(i):\n",
    "        mis = input('enter mis: ')\n",
    "        print('1. update first name')\n",
    "        print('2. update last name')\n",
    "        print('3. update mobile no')\n",
    "        print('4. update branch')\n",
    "        print('5. exit')\n",
    "        choice = input()\n",
    "        if choice=='1':\n",
    "            first_name = input('Enter new first name: ')\n",
    "            index = client_info[4].index(mis)\n",
    "            client_info[2][index] = first_name\n",
    "        \n",
    "        if choice=='2':\n",
    "            last_name = input('Enter new last name: ')\n",
    "            index = client_info[4].index(mis)\n",
    "            client_info[3][index] = last_name\n",
    "        if choice=='3':\n",
    "            number = input('Enter new number: ')\n",
    "            index = client_info[4].index(mis)\n",
    "            client_info[7][index] = number\n",
    "        if choice=='4':\n",
    "            branch = input('Enter new branch: ')\n",
    "            index = client_info[4].index(mis)\n",
    "            client_info[5][index] = branch\n",
    "        if choice=='5':\n",
    "            return\n",
    "\n",
    "\n",
    "\n"
   ]
  },
  {
   "cell_type": "code",
   "execution_count": null,
   "metadata": {},
   "outputs": [],
   "source": [
    "def viewbook(index):\n",
    "    for i in books[index]:\n",
    "        print(i,end=\" \")\n"
   ]
  },
  {
   "cell_type": "code",
   "execution_count": null,
   "metadata": {},
   "outputs": [],
   "source": [
    "\n",
    "def view_books():\n",
    "    for i in books:\n",
    "        for j in range(6):\n",
    "            print(books[i][j],end=\" \")\n",
    "        print('\\n')\n",
    " "
   ]
  },
  {
   "cell_type": "code",
   "execution_count": null,
   "metadata": {},
   "outputs": [],
   "source": [
    "       \n",
    "def search_books():\n",
    "    info = input('Enter book info you want')\n",
    "    for book in books:\n",
    "        if info in book:\n",
    "            index = book.index(info)\n",
    "            viewbook(index)"
   ]
  },
  {
   "cell_type": "code",
   "execution_count": 3,
   "metadata": {},
   "outputs": [],
   "source": [
    "def update_client_info():\n",
    "    i=1\n",
    "    mis = input('enter mis: ')\n",
    "    while(i):\n",
    "        print('1. update first name')\n",
    "        print('2. update last name')\n",
    "        print('3. update mobile no')\n",
    "        print('4. update branch')\n",
    "        print('5. exit')\n",
    "        choice = input()\n",
    "        if choice=='1':\n",
    "            first_name = input('Enter new first name: ')\n",
    "            c.execute(\"UPDATE client_info SET first_name = ? WHERE mis=?\",(first_name,mis))\n",
    "            return\n",
    "            \n",
    "        elif choice=='2':\n",
    "            last_name = input('Enter new last name: ')\n",
    "            c.execute(\"UPDATE client_info SET last_name = ? WHERE mis=?\",(last_name,mis))\n",
    "            return\n",
    "            \n",
    "        elif choice=='3':\n",
    "            number = input('Enter new number: ')\n",
    "            c.execute(\"UPDATE client_info SET number = ? WHERE mis=?\",(number,mis))\n",
    "            return\n",
    "\n",
    "        elif choice=='4':\n",
    "            branch = input('Enter new branch: ')\n",
    "            c.execute(\"UPDATE client_info SET branch = ? WHERE mis=?\",(branch,mis))\n",
    "            return\n",
    "        \n",
    "        elif choice=='5':\n",
    "            return\n",
    "        else:\n",
    "            print(\"Enter Valid choice...\")"
   ]
  },
  {
   "cell_type": "code",
   "execution_count": 29,
   "metadata": {},
   "outputs": [],
   "source": [
    "def view_books():\n",
    "    c.execute(\"SELECT * FROM books\")\n",
    "    record = c.fetchall()\n",
    "    for book in record:\n",
    "        i=1\n",
    "        print(i,')',book[0],'\\n')"
   ]
  },
  {
   "cell_type": "code",
   "execution_count": 44,
   "metadata": {},
   "outputs": [],
   "source": [
    "conn.close()"
   ]
  },
  {
   "cell_type": "code",
   "execution_count": 5,
   "metadata": {},
   "outputs": [
    {
     "name": "stdout",
     "output_type": "stream",
     "text": [
      "1 ) ('Programming with python', 'Reema Thareja', '-', '-', '1', 'available') \n",
      "\n"
     ]
    }
   ],
   "source": [
    "def search_books():\n",
    "    # c.execute(\"SELECT EXISTS(SELECT 1 FROM client_info WHERE mis=? LIMIT 1)\", (mis,))\n",
    "    c.execute(\"SELECT * FROM books\")\n",
    "    record = c.fetchall()\n",
    "    bk = input(\"Enter book you want to search: \")\n",
    "    bk = '%'+bk+'%'\n",
    "    c.execute(\"SELECT * FROM books WHERE book_name LIKE ?\",[bk])\n",
    "    result1 = c.fetchall()\n",
    "    c.execute(\"SELECT * FROM books WHERE author1 LIKE ?\",[bk])\n",
    "    result2 = c.fetchall()\n",
    "    c.execute(\"SELECT * FROM books WHERE author2 LIKE ?\",[bk])\n",
    "    result3 = c.fetchall()\n",
    "    c.execute(\"SELECT * FROM books WHERE author3 LIKE ?\",[bk])\n",
    "    result4 = c.fetchall()\n",
    "    c.execute(\"SELECT * FROM books WHERE book_id LIKE ?\",[bk])\n",
    "    result5 = c.fetchall()\n",
    "    result = result1+result2+result3+result4+result5\n",
    "    result = set(result)\n",
    "    num = 1\n",
    "    for i in result:\n",
    "        if (len(i)>0):\n",
    "            print(num,')',i,'\\n')\n",
    "            num+=1\n",
    "search_books()"
   ]
  },
  {
   "cell_type": "code",
   "execution_count": 7,
   "metadata": {},
   "outputs": [
    {
     "name": "stdout",
     "output_type": "stream",
     "text": [
      "Member not in te data\n"
     ]
    }
   ],
   "source": [
    "def admin_login():\n",
    "    \n",
    "\n",
    "    username = input(\"Enter username: \")\n",
    "    # c.execute(\"SELECT EXISTS(SELECT 1 FROM client_info WHERE mis=? LIMIT 1)\", (mis,))\n",
    "    # csr1.execute(\"SELECT * FROM books WHERE book_author LIKE 'Reema%'\")\n",
    "    c.execute(\"SELECT * FROM admin_info\")\n",
    "    record = (c.fetchall())\n",
    "    index=0\n",
    "    for i in record:\n",
    "        if len(i)>0 and username == i[0]:\n",
    "            \n",
    "            print(\"Name is in the table\")\n",
    "            y = input(\"Enter password: \")\n",
    "            c.execute(\"SELECT password FROM admin_info WHERE username=?\", (username,))\n",
    "            z = c.fetchone()\n",
    "            if y == z[0]:\n",
    "                print(\"CORRECT PASS\")\n",
    "                show_admin_options()\n",
    "                break\n",
    "            else:\n",
    "                print(\"Wrong pass\")\n",
    "                break\n",
    "            \n",
    "        else:\n",
    "            index+=1\n",
    "    \n",
    "    if index>=len(record):\n",
    "        print(\"Member not in te data\")\n",
    "        return\n",
    "admin_login()"
   ]
  },
  {
   "cell_type": "code",
   "execution_count": 26,
   "metadata": {},
   "outputs": [],
   "source": [
    "import datetime\n",
    "def book_allot():\n",
    "    mis = input(\"Enter client's mis: \")\n",
    "    c.execute(\"SELECT * from client_info WHERE mis=?\",[mis])\n",
    "    client = c.fetchall()\n",
    "    client[0] = list(client[0])\n",
    "    search_books() # here search function will allow librarian to see the book_id of the desired book\n",
    "    \n",
    "    print(client,len(client[0][0]),type(client[0]))\n",
    "\n",
    "    book_id = input(\"Enter book_id: \")\n",
    "    c.execute(\"SELECT * from books WHERE book_id=?\",[book_id])\n",
    "    book_info = c.fetchall()\n",
    "    book_info[0] = list(book_info[0])\n",
    "\n",
    "    print(book_info,len(book_info[0][0]),type(book_info[0]))\n",
    "    \n",
    "    print(book_info[0][5])\n",
    "    if(book_info[0][5] == 'unavailable'):\n",
    "        print(\"Book unavailable\")\n",
    "        return\n",
    "    else :\n",
    "        if (client[0][8] == '-' or c[0][10] !='-'):\n",
    "            client[0][8] = book_info[0][4]\n",
    "            client[0][9] = datetime.datetime.today()\n",
    "            client[0][10] ='-'\n",
    "            c.execute(\"UPDATE client_info SET book1_id = ? WHERE mis=?\",[c[0][8],mis])\n",
    "            c.execute(\"UPDATE client_info SET date_of_issue1 = ? WHERE mis=?\",[c[0][9],mis])\n",
    "            c.execute(\"UPDATE client_info SET date_of_return1 = ? WHERE mis=?\",[c[0][10],mis])\n",
    "            c.execute(\"UPDATE books SET Availability = 'unavailable' WHERE book_id=?\"[book_info[0][5]])\n",
    "            conn.commit()\n",
    "            print(\"The book has been alloted.\")\n",
    "            return\n",
    "        elif (c[0][11] == '-' or c[0][13]!='-'):\n",
    "            client[0][11] = book_info[0][4]\n",
    "            client[0][12] = datetime.datetime.today()\n",
    "            client[0][13] = '-'\n",
    "            c.execute(\"UPDATE client_info SET book2_id = ? WHERE mis=?\",[c[0][11],mis])\n",
    "            c.execute(\"UPDATE client_info SET date_of_issue2 = ? WHERE mis=?\",[c[0][12],mis])\n",
    "            c.execute(\"UPDATE client_info SET date_of_return2 = ? WHERE mis=?\",[c[0][13],mis])\n",
    "            c.execute(\"UPDATE books SET Availability = 'unavailable' WHERE book_id=?\"[book_info[0][5]])\n",
    "            conn.commit()\n",
    "            print(\"The book has been alloted.\")\n",
    "            return\n",
    "        else:\n",
    "            print(\"First return previous books\") \n",
    "            return\n"
   ]
  },
  {
   "cell_type": "code",
   "execution_count": null,
   "metadata": {},
   "outputs": [],
   "source": []
  },
  {
   "cell_type": "code",
   "execution_count": null,
   "metadata": {},
   "outputs": [],
   "source": []
  }
 ],
 "metadata": {
  "kernelspec": {
   "display_name": "Python 3",
   "language": "python",
   "name": "python3"
  },
  "language_info": {
   "codemirror_mode": {
    "name": "ipython",
    "version": 3
   },
   "file_extension": ".py",
   "mimetype": "text/x-python",
   "name": "python",
   "nbconvert_exporter": "python",
   "pygments_lexer": "ipython3",
   "version": "3.8.5"
  }
 },
 "nbformat": 4,
 "nbformat_minor": 4
}
